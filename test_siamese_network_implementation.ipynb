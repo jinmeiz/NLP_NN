{
 "cells": [
  {
   "cell_type": "markdown",
   "metadata": {},
   "source": [
    "# prepare data"
   ]
  },
  {
   "cell_type": "code",
   "execution_count": 1,
   "metadata": {},
   "outputs": [
    {
     "name": "stdout",
     "output_type": "stream",
     "text": [
      "(499, 4)\n"
     ]
    },
    {
     "data": {
      "text/html": [
       "<div>\n",
       "<style scoped>\n",
       "    .dataframe tbody tr th:only-of-type {\n",
       "        vertical-align: middle;\n",
       "    }\n",
       "\n",
       "    .dataframe tbody tr th {\n",
       "        vertical-align: top;\n",
       "    }\n",
       "\n",
       "    .dataframe thead th {\n",
       "        text-align: right;\n",
       "    }\n",
       "</style>\n",
       "<table border=\"1\" class=\"dataframe\">\n",
       "  <thead>\n",
       "    <tr style=\"text-align: right;\">\n",
       "      <th></th>\n",
       "      <th>Unnamed: 0</th>\n",
       "      <th>sentences1</th>\n",
       "      <th>sentences2</th>\n",
       "      <th>is_similar</th>\n",
       "    </tr>\n",
       "  </thead>\n",
       "  <tbody>\n",
       "    <tr>\n",
       "      <th>0</th>\n",
       "      <td>0</td>\n",
       "      <td>What is the step by step guide to invest in sh...</td>\n",
       "      <td>What is the step by step guide to invest in sh...</td>\n",
       "      <td>0</td>\n",
       "    </tr>\n",
       "    <tr>\n",
       "      <th>1</th>\n",
       "      <td>1</td>\n",
       "      <td>What is the story of Kohinoor (Koh-i-Noor) Dia...</td>\n",
       "      <td>What would happen if the Indian government sto...</td>\n",
       "      <td>0</td>\n",
       "    </tr>\n",
       "    <tr>\n",
       "      <th>2</th>\n",
       "      <td>2</td>\n",
       "      <td>How can I increase the speed of my internet co...</td>\n",
       "      <td>How can Internet speed be increased by hacking...</td>\n",
       "      <td>0</td>\n",
       "    </tr>\n",
       "    <tr>\n",
       "      <th>3</th>\n",
       "      <td>3</td>\n",
       "      <td>Why am I mentally very lonely? How can I solve...</td>\n",
       "      <td>Find the remainder when [math]23^{24}[/math] i...</td>\n",
       "      <td>0</td>\n",
       "    </tr>\n",
       "    <tr>\n",
       "      <th>4</th>\n",
       "      <td>4</td>\n",
       "      <td>Which one dissolve in water quikly sugar, salt...</td>\n",
       "      <td>Which fish would survive in salt water?</td>\n",
       "      <td>0</td>\n",
       "    </tr>\n",
       "  </tbody>\n",
       "</table>\n",
       "</div>"
      ],
      "text/plain": [
       "   Unnamed: 0                                         sentences1  \\\n",
       "0           0  What is the step by step guide to invest in sh...   \n",
       "1           1  What is the story of Kohinoor (Koh-i-Noor) Dia...   \n",
       "2           2  How can I increase the speed of my internet co...   \n",
       "3           3  Why am I mentally very lonely? How can I solve...   \n",
       "4           4  Which one dissolve in water quikly sugar, salt...   \n",
       "\n",
       "                                          sentences2  is_similar  \n",
       "0  What is the step by step guide to invest in sh...           0  \n",
       "1  What would happen if the Indian government sto...           0  \n",
       "2  How can Internet speed be increased by hacking...           0  \n",
       "3  Find the remainder when [math]23^{24}[/math] i...           0  \n",
       "4            Which fish would survive in salt water?           0  "
      ]
     },
     "execution_count": 1,
     "metadata": {},
     "output_type": "execute_result"
    }
   ],
   "source": [
    "import pandas as pd\n",
    "\n",
    "data = pd.read_csv('sample_data.csv')\n",
    "print(data.shape)\n",
    "data.head()"
   ]
  },
  {
   "cell_type": "code",
   "execution_count": 2,
   "metadata": {},
   "outputs": [
    {
     "name": "stdout",
     "output_type": "stream",
     "text": [
      "['What is the step by step guide to invest in share market in india?', 'What is the story of Kohinoor (Koh-i-Noor) Diamond?']\n",
      "['What is the step by step guide to invest in share market?', 'What would happen if the Indian government stole the Kohinoor (Koh-i-Noor) diamond back?']\n",
      "[0, 0]\n"
     ]
    }
   ],
   "source": [
    "s1_col = 'sentences1'\n",
    "s2_col = 'sentences2'\n",
    "label_col = 'is_similar'\n",
    "\n",
    "sentences1 = list(data[s1_col])\n",
    "sentences2 = list(data[s2_col])\n",
    "labels = list(data[label_col])\n",
    "\n",
    "print(sentences1[:2])\n",
    "print(sentences2[:2])\n",
    "print(labels[:2])"
   ]
  },
  {
   "cell_type": "markdown",
   "metadata": {},
   "source": [
    "# create training data"
   ]
  },
  {
   "cell_type": "code",
   "execution_count": 3,
   "metadata": {},
   "outputs": [
    {
     "name": "stdout",
     "output_type": "stream",
     "text": [
      "[['what', 'is', 'the', 'step', 'by', 'step', 'guide', 'to', 'invest', 'in', 'share', 'market', 'in', 'india?'], ['what', 'is', 'the', 'story', 'of', 'kohinoor', '(koh-i-noor)', 'diamond?']]\n"
     ]
    }
   ],
   "source": [
    "documents = sentences1 + sentences2\n",
    "doc_words = [x.lower().split() for x in documents]\n",
    "print(doc_words[:2])"
   ]
  },
  {
   "cell_type": "code",
   "execution_count": 6,
   "metadata": {},
   "outputs": [
    {
     "name": "stderr",
     "output_type": "stream",
     "text": [
      "W0725 14:48:11.882972 4569712064 base_any2vec.py:723] consider setting layer size to a multiple of 4 for greater performance\n",
      "W0725 14:48:11.987967 4569712064 base_any2vec.py:1386] under 10 jobs per worker: consider setting a smaller `batch_words' for smoother alpha decay\n"
     ]
    },
    {
     "name": "stdout",
     "output_type": "stream",
     "text": [
      "document_count: 998\n",
      "number of words: 3051\n",
      "total words+1:  3052\n",
      "Embedding matrix shape: (3052, 50)\n",
      "sample word embeddding:\n",
      "i 5\n",
      "[-0.06770796 -0.04137032 -0.0268636   0.0089477   0.04354147 -0.04058208\n",
      " -0.07212066 -0.0330251  -0.13802154  0.02702054 -0.06765643 -0.05425958\n",
      " -0.05956003  0.02756251  0.00650712  0.00328051 -0.0828038   0.08157284\n",
      "  0.06269407  0.06183026  0.02676531  0.04294371 -0.03089175  0.02704246\n",
      " -0.06714765  0.02264272  0.01460735  0.07577525 -0.05026695 -0.07081524\n",
      " -0.06845475 -0.10819329  0.04025434  0.00892521  0.0383963   0.07519003\n",
      "  0.04873734 -0.05430204  0.06258007 -0.07511717 -0.00385681 -0.07947874\n",
      " -0.10794722  0.03477678  0.1472071   0.03254943  0.06410009  0.0796771\n",
      "  0.09287953 -0.08372698]\n",
      "Null word embeddings: 1\n",
      "(449, 30) (25, 30) (25, 30)\n",
      "(449,) (25,) (25,)\n"
     ]
    }
   ],
   "source": [
    "from input_process_utils import tokenize_doc, obtain_word_embedding, input_process, create_train_valid_test_set\n",
    "\n",
    "# specify parameters\n",
    "embedding_dim = 50\n",
    "max_sentence_length = 30\n",
    "\n",
    "# tokenize words\n",
    "tokenizer = tokenize_doc(doc_words)\n",
    "nwords = len(tokenizer.word_index) + 1\n",
    "print('total words+1: ', nwords)\n",
    "\n",
    "# create word embedding matrix\n",
    "word_embedding_matrix = obtain_word_embedding(tokenizer, doc_words, embedding_dim)\n",
    "\n",
    "# convert sentences to list of tokens\n",
    "s1_padded_tokens, s2_padded_tokens = input_process(tokenizer, sentences1, sentences2, max_sentence_length)\n",
    "\n",
    "# create train, validation, test sets\n",
    "x1_train, x2_train, y_train, \\\n",
    "x1_valid, x2_valid, y_valid, \\\n",
    "x1_test, x2_test, y_test = create_train_valid_test_set(s1_padded_tokens, s2_padded_tokens, labels, test_size=0.1)\n",
    "\n",
    "print(x1_train.shape, x1_valid.shape, x1_test.shape)\n",
    "print(y_train.shape, y_valid.shape, y_test.shape)"
   ]
  },
  {
   "cell_type": "markdown",
   "metadata": {},
   "source": [
    "# model"
   ]
  },
  {
   "cell_type": "code",
   "execution_count": 7,
   "metadata": {},
   "outputs": [
    {
     "name": "stderr",
     "output_type": "stream",
     "text": [
      "W0725 14:48:14.320415 4569712064 deprecation_wrapper.py:119] From /Users/jinmei/.pyenv/versions/3.6.7/lib/python3.6/site-packages/keras/backend/tensorflow_backend.py:74: The name tf.get_default_graph is deprecated. Please use tf.compat.v1.get_default_graph instead.\n",
      "\n",
      "W0725 14:48:14.335611 4569712064 deprecation_wrapper.py:119] From /Users/jinmei/.pyenv/versions/3.6.7/lib/python3.6/site-packages/keras/backend/tensorflow_backend.py:517: The name tf.placeholder is deprecated. Please use tf.compat.v1.placeholder instead.\n",
      "\n",
      "W0725 14:48:14.338003 4569712064 deprecation_wrapper.py:119] From /Users/jinmei/.pyenv/versions/3.6.7/lib/python3.6/site-packages/keras/backend/tensorflow_backend.py:4138: The name tf.random_uniform is deprecated. Please use tf.random.uniform instead.\n",
      "\n",
      "W0725 14:48:14.347140 4569712064 deprecation_wrapper.py:119] From /Users/jinmei/.pyenv/versions/3.6.7/lib/python3.6/site-packages/keras/backend/tensorflow_backend.py:174: The name tf.get_default_session is deprecated. Please use tf.compat.v1.get_default_session instead.\n",
      "\n",
      "W0725 14:48:14.348303 4569712064 deprecation_wrapper.py:119] From /Users/jinmei/.pyenv/versions/3.6.7/lib/python3.6/site-packages/keras/backend/tensorflow_backend.py:181: The name tf.ConfigProto is deprecated. Please use tf.compat.v1.ConfigProto instead.\n",
      "\n",
      "W0725 14:48:15.088983 4569712064 deprecation_wrapper.py:119] From /Users/jinmei/.pyenv/versions/3.6.7/lib/python3.6/site-packages/keras/optimizers.py:790: The name tf.train.Optimizer is deprecated. Please use tf.compat.v1.train.Optimizer instead.\n",
      "\n"
     ]
    }
   ],
   "source": [
    "from siamese_network import build_model\n",
    "\n",
    "# define parameters for model\n",
    "number_lstm_units = 100\n",
    "rate_drop_dense = 0.5\n",
    "number_dense_units = 100\n",
    "\n",
    "model_siamese = build_model(word_embedding_matrix, nwords, max_sentence_length,\n",
    "                            embedding_dim,\n",
    "                            number_lstm_units,\n",
    "                            number_dense_units, rate_drop_dense,)"
   ]
  },
  {
   "cell_type": "code",
   "execution_count": 9,
   "metadata": {},
   "outputs": [
    {
     "name": "stderr",
     "output_type": "stream",
     "text": [
      "W0725 14:48:27.461007 4569712064 deprecation.py:323] From /Users/jinmei/.pyenv/versions/3.6.7/lib/python3.6/site-packages/tensorflow/python/ops/math_grad.py:1250: add_dispatch_support.<locals>.wrapper (from tensorflow.python.ops.array_ops) is deprecated and will be removed in a future version.\n",
      "Instructions for updating:\n",
      "Use tf.where in 2.0, which has the same broadcast rule as np.where\n"
     ]
    },
    {
     "name": "stdout",
     "output_type": "stream",
     "text": [
      "Train on 449 samples, validate on 25 samples\n",
      "Epoch 1/10\n",
      "449/449 [==============================] - 3s 6ms/step - loss: 0.2989 - acc: 0.5323 - f1: 0.5192 - val_loss: 0.2048 - val_acc: 0.6400 - val_f1: 0.5263\n",
      "Epoch 2/10\n",
      "449/449 [==============================] - 1s 1ms/step - loss: 0.2653 - acc: 0.5835 - f1: 0.4525 - val_loss: 0.2282 - val_acc: 0.6400 - val_f1: 0.6087\n",
      "Epoch 3/10\n",
      "449/449 [==============================] - 1s 1ms/step - loss: 0.2635 - acc: 0.5702 - f1: 0.4684 - val_loss: 0.1931 - val_acc: 0.7200 - val_f1: 0.5333\n",
      "Epoch 4/10\n",
      "449/449 [==============================] - 1s 1ms/step - loss: 0.2591 - acc: 0.6080 - f1: 0.4342 - val_loss: 0.2069 - val_acc: 0.6400 - val_f1: 0.5714\n",
      "Epoch 5/10\n",
      "449/449 [==============================] - 1s 1ms/step - loss: 0.2568 - acc: 0.5902 - f1: 0.4547 - val_loss: 0.1955 - val_acc: 0.7600 - val_f1: 0.5714\n",
      "Epoch 6/10\n",
      "449/449 [==============================] - 1s 1ms/step - loss: 0.2552 - acc: 0.6058 - f1: 0.4411 - val_loss: 0.1958 - val_acc: 0.6800 - val_f1: 0.5000\n",
      "Epoch 7/10\n",
      "449/449 [==============================] - 1s 1ms/step - loss: 0.2546 - acc: 0.6013 - f1: 0.4520 - val_loss: 0.1921 - val_acc: 0.7200 - val_f1: 0.4615\n",
      "Epoch 8/10\n",
      "449/449 [==============================] - 1s 1ms/step - loss: 0.2542 - acc: 0.6036 - f1: 0.4423 - val_loss: 0.1980 - val_acc: 0.6400 - val_f1: 0.5714\n",
      "Epoch 9/10\n",
      "449/449 [==============================] - 1s 1ms/step - loss: 0.2529 - acc: 0.5991 - f1: 0.4650 - val_loss: 0.1890 - val_acc: 0.7600 - val_f1: 0.5714\n",
      "Epoch 10/10\n",
      "449/449 [==============================] - 0s 1ms/step - loss: 0.2512 - acc: 0.6102 - f1: 0.4315 - val_loss: 0.1880 - val_acc: 0.7600 - val_f1: 0.5714\n"
     ]
    },
    {
     "data": {
      "text/plain": [
       "<keras.callbacks.History at 0x13223c2e8>"
      ]
     },
     "execution_count": 9,
     "metadata": {},
     "output_type": "execute_result"
    }
   ],
   "source": [
    "model_siamese.fit([x1_train, x2_train], y_train,\n",
    "                  validation_data=([x1_valid, x2_valid], y_valid),\n",
    "                  epochs=10, batch_size=32, shuffle=True,\n",
    "                  )"
   ]
  },
  {
   "cell_type": "code",
   "execution_count": 10,
   "metadata": {},
   "outputs": [
    {
     "name": "stdout",
     "output_type": "stream",
     "text": [
      "\r",
      "25/25 [==============================] - 0s 11ms/step\n"
     ]
    }
   ],
   "source": [
    "preds = model_siamese.predict([x1_valid, x2_valid], verbose=1)\n",
    "pred_labels = [round(x[0]) for x in preds.tolist()]"
   ]
  },
  {
   "cell_type": "code",
   "execution_count": 11,
   "metadata": {},
   "outputs": [
    {
     "data": {
      "text/html": [
       "<div>\n",
       "<style scoped>\n",
       "    .dataframe tbody tr th:only-of-type {\n",
       "        vertical-align: middle;\n",
       "    }\n",
       "\n",
       "    .dataframe tbody tr th {\n",
       "        vertical-align: top;\n",
       "    }\n",
       "\n",
       "    .dataframe thead th {\n",
       "        text-align: right;\n",
       "    }\n",
       "</style>\n",
       "<table border=\"1\" class=\"dataframe\">\n",
       "  <thead>\n",
       "    <tr style=\"text-align: right;\">\n",
       "      <th></th>\n",
       "      <th>label</th>\n",
       "      <th>prob</th>\n",
       "      <th>pred</th>\n",
       "    </tr>\n",
       "  </thead>\n",
       "  <tbody>\n",
       "    <tr>\n",
       "      <th>0</th>\n",
       "      <td>0</td>\n",
       "      <td>[0.5563027858734131]</td>\n",
       "      <td>1</td>\n",
       "    </tr>\n",
       "    <tr>\n",
       "      <th>1</th>\n",
       "      <td>1</td>\n",
       "      <td>[0.49119246006011963]</td>\n",
       "      <td>0</td>\n",
       "    </tr>\n",
       "    <tr>\n",
       "      <th>2</th>\n",
       "      <td>1</td>\n",
       "      <td>[0.5192320346832275]</td>\n",
       "      <td>1</td>\n",
       "    </tr>\n",
       "    <tr>\n",
       "      <th>3</th>\n",
       "      <td>1</td>\n",
       "      <td>[0.13289517164230347]</td>\n",
       "      <td>0</td>\n",
       "    </tr>\n",
       "    <tr>\n",
       "      <th>4</th>\n",
       "      <td>0</td>\n",
       "      <td>[0.4359603524208069]</td>\n",
       "      <td>0</td>\n",
       "    </tr>\n",
       "  </tbody>\n",
       "</table>\n",
       "</div>"
      ],
      "text/plain": [
       "   label                   prob  pred\n",
       "0      0   [0.5563027858734131]     1\n",
       "1      1  [0.49119246006011963]     0\n",
       "2      1   [0.5192320346832275]     1\n",
       "3      1  [0.13289517164230347]     0\n",
       "4      0   [0.4359603524208069]     0"
      ]
     },
     "execution_count": 11,
     "metadata": {},
     "output_type": "execute_result"
    }
   ],
   "source": [
    "comp = pd.DataFrame({'label':y_test, 'prob':preds.tolist(), 'pred':pred_labels})\n",
    "comp.head()"
   ]
  },
  {
   "cell_type": "code",
   "execution_count": 12,
   "metadata": {},
   "outputs": [
    {
     "data": {
      "text/plain": [
       "(7, 3)"
      ]
     },
     "execution_count": 12,
     "metadata": {},
     "output_type": "execute_result"
    }
   ],
   "source": [
    "fn = comp[(comp['label'] != comp['pred']) & (comp['label'] == 1)]\n",
    "fn.shape"
   ]
  },
  {
   "cell_type": "code",
   "execution_count": 13,
   "metadata": {},
   "outputs": [
    {
     "data": {
      "text/plain": [
       "(4, 3)"
      ]
     },
     "execution_count": 13,
     "metadata": {},
     "output_type": "execute_result"
    }
   ],
   "source": [
    "tp = comp[(comp['label'] == comp['pred']) & (comp['label'] == 1)]\n",
    "tp.shape"
   ]
  },
  {
   "cell_type": "code",
   "execution_count": 14,
   "metadata": {},
   "outputs": [
    {
     "data": {
      "text/plain": [
       "(9, 3)"
      ]
     },
     "execution_count": 14,
     "metadata": {},
     "output_type": "execute_result"
    }
   ],
   "source": [
    "comp[comp['label'] != comp['pred']].shape"
   ]
  },
  {
   "cell_type": "code",
   "execution_count": 15,
   "metadata": {},
   "outputs": [
    {
     "data": {
      "text/plain": [
       "(6, 3)"
      ]
     },
     "execution_count": 15,
     "metadata": {},
     "output_type": "execute_result"
    }
   ],
   "source": [
    "predicted_p = comp[comp['pred'] == 1]\n",
    "predicted_p.shape                  "
   ]
  },
  {
   "cell_type": "code",
   "execution_count": null,
   "metadata": {},
   "outputs": [],
   "source": []
  }
 ],
 "metadata": {
  "kernelspec": {
   "display_name": "Python 3",
   "language": "python",
   "name": "python3"
  },
  "language_info": {
   "codemirror_mode": {
    "name": "ipython",
    "version": 3
   },
   "file_extension": ".py",
   "mimetype": "text/x-python",
   "name": "python",
   "nbconvert_exporter": "python",
   "pygments_lexer": "ipython3",
   "version": "3.6.7"
  },
  "toc": {
   "base_numbering": 1,
   "nav_menu": {},
   "number_sections": true,
   "sideBar": true,
   "skip_h1_title": false,
   "title_cell": "Table of Contents",
   "title_sidebar": "Contents",
   "toc_cell": false,
   "toc_position": {
    "height": "calc(100% - 180px)",
    "left": "10px",
    "top": "150px",
    "width": "200.390625px"
   },
   "toc_section_display": true,
   "toc_window_display": true
  }
 },
 "nbformat": 4,
 "nbformat_minor": 2
}
